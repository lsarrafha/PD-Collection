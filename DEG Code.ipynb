{
 "cells": [
  {
   "cell_type": "markdown",
   "metadata": {},
   "source": [
    "# Write a general code to do DE analysis on any dataset\n",
    "  - input: IDs of controls and samples\n",
    "  - output: table that results from %R head(deg)"
   ]
  },
  {
   "cell_type": "code",
   "execution_count": 25,
   "metadata": {},
   "outputs": [
    {
     "name": "stdout",
     "output_type": "stream",
     "text": [
      "The rpy2.ipython extension is already loaded. To reload it, use:\n",
      "  %reload_ext rpy2.ipython\n"
     ]
    }
   ],
   "source": [
    "import sys, pandas as pd\n",
    "sys.path.append('scripts')\n",
    "import archs4\n",
    "from importlib import reload\n",
    "import code_library\n",
    "%load_ext rpy2.ipython"
   ]
  },
  {
   "cell_type": "code",
   "execution_count": 36,
   "metadata": {
    "scrolled": true
   },
   "outputs": [
    {
     "data": {
      "text/plain": [
       "[1] \"scripts\"\n"
      ]
     },
     "metadata": {},
     "output_type": "display_data"
    }
   ],
   "source": [
    "%%R\n",
    "file.path(\"scripts\")"
   ]
  },
  {
   "cell_type": "code",
   "execution_count": 40,
   "metadata": {},
   "outputs": [
    {
     "name": "stdout",
     "output_type": "stream",
     "text": [
      "\n",
      "Error in file(filename, \"r\", encoding = encoding) : \n",
      "  cannot open the connection\n"
     ]
    }
   ],
   "source": [
    "%%R\n",
    "source('code_library')"
   ]
  },
  {
   "cell_type": "markdown",
   "metadata": {},
   "source": [
    "## 1. Miller et al. (2013)"
   ]
  },
  {
   "cell_type": "code",
   "execution_count": 2,
   "metadata": {},
   "outputs": [
    {
     "data": {
      "text/html": [
       "<div>\n",
       "<style scoped>\n",
       "    .dataframe tbody tr th:only-of-type {\n",
       "        vertical-align: middle;\n",
       "    }\n",
       "\n",
       "    .dataframe tbody tr th {\n",
       "        vertical-align: top;\n",
       "    }\n",
       "\n",
       "    .dataframe thead th {\n",
       "        text-align: right;\n",
       "    }\n",
       "</style>\n",
       "<table border=\"1\" class=\"dataframe\">\n",
       "  <thead>\n",
       "    <tr style=\"text-align: right;\">\n",
       "      <th></th>\n",
       "      <th>GSM1266739</th>\n",
       "      <th>GSM1266740</th>\n",
       "      <th>GSM1266741</th>\n",
       "      <th>GSM1266742</th>\n",
       "      <th>GSM1266743</th>\n",
       "      <th>GSM1266744</th>\n",
       "      <th>GSM1266745</th>\n",
       "      <th>GSM1266746</th>\n",
       "    </tr>\n",
       "    <tr>\n",
       "      <th>ID_REF</th>\n",
       "      <th></th>\n",
       "      <th></th>\n",
       "      <th></th>\n",
       "      <th></th>\n",
       "      <th></th>\n",
       "      <th></th>\n",
       "      <th></th>\n",
       "      <th></th>\n",
       "    </tr>\n",
       "  </thead>\n",
       "  <tbody>\n",
       "    <tr>\n",
       "      <th>A1BG</th>\n",
       "      <td>450</td>\n",
       "      <td>458</td>\n",
       "      <td>183</td>\n",
       "      <td>330</td>\n",
       "      <td>634</td>\n",
       "      <td>831</td>\n",
       "      <td>239</td>\n",
       "      <td>358</td>\n",
       "    </tr>\n",
       "    <tr>\n",
       "      <th>A1CF</th>\n",
       "      <td>35</td>\n",
       "      <td>86</td>\n",
       "      <td>8</td>\n",
       "      <td>15</td>\n",
       "      <td>66</td>\n",
       "      <td>75</td>\n",
       "      <td>7</td>\n",
       "      <td>25</td>\n",
       "    </tr>\n",
       "    <tr>\n",
       "      <th>A2M</th>\n",
       "      <td>41</td>\n",
       "      <td>57</td>\n",
       "      <td>133</td>\n",
       "      <td>215</td>\n",
       "      <td>103</td>\n",
       "      <td>52</td>\n",
       "      <td>103</td>\n",
       "      <td>105</td>\n",
       "    </tr>\n",
       "    <tr>\n",
       "      <th>A2ML1</th>\n",
       "      <td>117</td>\n",
       "      <td>149</td>\n",
       "      <td>17</td>\n",
       "      <td>24</td>\n",
       "      <td>137</td>\n",
       "      <td>145</td>\n",
       "      <td>21</td>\n",
       "      <td>50</td>\n",
       "    </tr>\n",
       "    <tr>\n",
       "      <th>A2MP1</th>\n",
       "      <td>29</td>\n",
       "      <td>36</td>\n",
       "      <td>4</td>\n",
       "      <td>5</td>\n",
       "      <td>42</td>\n",
       "      <td>71</td>\n",
       "      <td>8</td>\n",
       "      <td>14</td>\n",
       "    </tr>\n",
       "  </tbody>\n",
       "</table>\n",
       "</div>"
      ],
      "text/plain": [
       "        GSM1266739  GSM1266740  GSM1266741  GSM1266742  GSM1266743  \\\n",
       "ID_REF                                                               \n",
       "A1BG           450         458         183         330         634   \n",
       "A1CF            35          86           8          15          66   \n",
       "A2M             41          57         133         215         103   \n",
       "A2ML1          117         149          17          24         137   \n",
       "A2MP1           29          36           4           5          42   \n",
       "\n",
       "        GSM1266744  GSM1266745  GSM1266746  \n",
       "ID_REF                                      \n",
       "A1BG           831         239         358  \n",
       "A1CF            75           7          25  \n",
       "A2M             52         103         105  \n",
       "A2ML1          145          21          50  \n",
       "A2MP1           71           8          14  "
      ]
     },
     "execution_count": 2,
     "metadata": {},
     "output_type": "execute_result"
    }
   ],
   "source": [
    "rawcount_dataframe, sample_metadata_dataframe = archs4.fetch_dataset(\"GSE52431\")\n",
    "rawcount_dataframe.head()"
   ]
  },
  {
   "cell_type": "code",
   "execution_count": 3,
   "metadata": {},
   "outputs": [
    {
     "data": {
      "text/html": [
       "<div>\n",
       "<style scoped>\n",
       "    .dataframe tbody tr th:only-of-type {\n",
       "        vertical-align: middle;\n",
       "    }\n",
       "\n",
       "    .dataframe tbody tr th {\n",
       "        vertical-align: top;\n",
       "    }\n",
       "\n",
       "    .dataframe thead th {\n",
       "        text-align: right;\n",
       "    }\n",
       "</style>\n",
       "<table border=\"1\" class=\"dataframe\">\n",
       "  <thead>\n",
       "    <tr style=\"text-align: right;\">\n",
       "      <th></th>\n",
       "      <th>!Sample_title</th>\n",
       "      <th>!Sample_characteristics_ch1</th>\n",
       "      <th>platform</th>\n",
       "    </tr>\n",
       "    <tr>\n",
       "      <th>!Sample_geo_accession</th>\n",
       "      <th></th>\n",
       "      <th></th>\n",
       "      <th></th>\n",
       "    </tr>\n",
       "  </thead>\n",
       "  <tbody>\n",
       "    <tr>\n",
       "      <th>GSM1266739</th>\n",
       "      <td>WT-82 y iPSC-mDA + Nuclear GFP n 1</td>\n",
       "      <td>cell type: iPSC-derived midbrain dopamine (mDA...</td>\n",
       "      <td>GPL11154</td>\n",
       "    </tr>\n",
       "    <tr>\n",
       "      <th>GSM1266740</th>\n",
       "      <td>WT-82 y iPSC-mDA + Nuclear GFP n 3</td>\n",
       "      <td>cell type: iPSC-derived midbrain dopamine (mDA...</td>\n",
       "      <td>GPL11154</td>\n",
       "    </tr>\n",
       "    <tr>\n",
       "      <th>GSM1266741</th>\n",
       "      <td>WT-82 y iPSC-mDA + GFP-progerin p 1</td>\n",
       "      <td>cell type: iPSC-derived midbrain dopamine (mDA...</td>\n",
       "      <td>GPL11154</td>\n",
       "    </tr>\n",
       "    <tr>\n",
       "      <th>GSM1266742</th>\n",
       "      <td>WT-82 y iPSC-mDA + GFP-progerin p 3</td>\n",
       "      <td>cell type: iPSC-derived midbrain dopamine (mDA...</td>\n",
       "      <td>GPL11154</td>\n",
       "    </tr>\n",
       "    <tr>\n",
       "      <th>GSM1266743</th>\n",
       "      <td>WT-11 y iPSC-mDA + Nuclear GFP n 1</td>\n",
       "      <td>cell type: iPSC-derived midbrain dopamine (mDA...</td>\n",
       "      <td>GPL11154</td>\n",
       "    </tr>\n",
       "  </tbody>\n",
       "</table>\n",
       "</div>"
      ],
      "text/plain": [
       "                                             !Sample_title  \\\n",
       "!Sample_geo_accession                                        \n",
       "GSM1266739              WT-82 y iPSC-mDA + Nuclear GFP n 1   \n",
       "GSM1266740              WT-82 y iPSC-mDA + Nuclear GFP n 3   \n",
       "GSM1266741             WT-82 y iPSC-mDA + GFP-progerin p 1   \n",
       "GSM1266742             WT-82 y iPSC-mDA + GFP-progerin p 3   \n",
       "GSM1266743              WT-11 y iPSC-mDA + Nuclear GFP n 1   \n",
       "\n",
       "                                             !Sample_characteristics_ch1  \\\n",
       "!Sample_geo_accession                                                      \n",
       "GSM1266739             cell type: iPSC-derived midbrain dopamine (mDA...   \n",
       "GSM1266740             cell type: iPSC-derived midbrain dopamine (mDA...   \n",
       "GSM1266741             cell type: iPSC-derived midbrain dopamine (mDA...   \n",
       "GSM1266742             cell type: iPSC-derived midbrain dopamine (mDA...   \n",
       "GSM1266743             cell type: iPSC-derived midbrain dopamine (mDA...   \n",
       "\n",
       "                       platform  \n",
       "!Sample_geo_accession            \n",
       "GSM1266739             GPL11154  \n",
       "GSM1266740             GPL11154  \n",
       "GSM1266741             GPL11154  \n",
       "GSM1266742             GPL11154  \n",
       "GSM1266743             GPL11154  "
      ]
     },
     "execution_count": 3,
     "metadata": {},
     "output_type": "execute_result"
    }
   ],
   "source": [
    "sample_metadata_dataframe.head()"
   ]
  },
  {
   "cell_type": "code",
   "execution_count": 4,
   "metadata": {},
   "outputs": [
    {
     "data": {
      "text/html": [
       "<div>\n",
       "<style scoped>\n",
       "    .dataframe tbody tr th:only-of-type {\n",
       "        vertical-align: middle;\n",
       "    }\n",
       "\n",
       "    .dataframe tbody tr th {\n",
       "        vertical-align: top;\n",
       "    }\n",
       "\n",
       "    .dataframe thead th {\n",
       "        text-align: right;\n",
       "    }\n",
       "</style>\n",
       "<table border=\"1\" class=\"dataframe\">\n",
       "  <thead>\n",
       "    <tr style=\"text-align: right;\">\n",
       "      <th></th>\n",
       "      <th>Cell Type</th>\n",
       "      <th>Donor Age</th>\n",
       "      <th>Expression Construct</th>\n",
       "    </tr>\n",
       "    <tr>\n",
       "      <th>Accession Number</th>\n",
       "      <th></th>\n",
       "      <th></th>\n",
       "      <th></th>\n",
       "    </tr>\n",
       "  </thead>\n",
       "  <tbody>\n",
       "    <tr>\n",
       "      <th>GSM1266739</th>\n",
       "      <td>iPSC-derived midbrain dopamine (mDA) neurons</td>\n",
       "      <td>82</td>\n",
       "      <td>Nuclear GFP</td>\n",
       "    </tr>\n",
       "    <tr>\n",
       "      <th>GSM1266740</th>\n",
       "      <td>iPSC-derived midbrain dopamine (mDA) neurons</td>\n",
       "      <td>82</td>\n",
       "      <td>Nuclear GFP</td>\n",
       "    </tr>\n",
       "    <tr>\n",
       "      <th>GSM1266741</th>\n",
       "      <td>iPSC-derived midbrain dopamine (mDA) neurons</td>\n",
       "      <td>82</td>\n",
       "      <td>Progerin GFP</td>\n",
       "    </tr>\n",
       "    <tr>\n",
       "      <th>GSM1266742</th>\n",
       "      <td>iPSC-derived midbrain dopamine (mDA) neurons</td>\n",
       "      <td>82</td>\n",
       "      <td>Progerin GFP</td>\n",
       "    </tr>\n",
       "    <tr>\n",
       "      <th>GSM1266743</th>\n",
       "      <td>iPSC-derived midbrain dopamine (mDA) neurons</td>\n",
       "      <td>11</td>\n",
       "      <td>Nuclear GFP</td>\n",
       "    </tr>\n",
       "    <tr>\n",
       "      <th>GSM1266744</th>\n",
       "      <td>iPSC-derived midbrain dopamine (mDA) neurons</td>\n",
       "      <td>11</td>\n",
       "      <td>Nuclear GFP</td>\n",
       "    </tr>\n",
       "    <tr>\n",
       "      <th>GSM1266745</th>\n",
       "      <td>iPSC-derived midbrain dopamine (mDA) neurons</td>\n",
       "      <td>11</td>\n",
       "      <td>Progerin GFP</td>\n",
       "    </tr>\n",
       "    <tr>\n",
       "      <th>GSM1266746</th>\n",
       "      <td>iPSC-derived midbrain dopamine (mDA) neurons</td>\n",
       "      <td>11</td>\n",
       "      <td>Progerin GFP</td>\n",
       "    </tr>\n",
       "  </tbody>\n",
       "</table>\n",
       "</div>"
      ],
      "text/plain": [
       "                                                     Cell Type  Donor Age  \\\n",
       "Accession Number                                                            \n",
       "GSM1266739        iPSC-derived midbrain dopamine (mDA) neurons         82   \n",
       "GSM1266740        iPSC-derived midbrain dopamine (mDA) neurons         82   \n",
       "GSM1266741        iPSC-derived midbrain dopamine (mDA) neurons         82   \n",
       "GSM1266742        iPSC-derived midbrain dopamine (mDA) neurons         82   \n",
       "GSM1266743        iPSC-derived midbrain dopamine (mDA) neurons         11   \n",
       "GSM1266744        iPSC-derived midbrain dopamine (mDA) neurons         11   \n",
       "GSM1266745        iPSC-derived midbrain dopamine (mDA) neurons         11   \n",
       "GSM1266746        iPSC-derived midbrain dopamine (mDA) neurons         11   \n",
       "\n",
       "                 Expression Construct  \n",
       "Accession Number                       \n",
       "GSM1266739                Nuclear GFP  \n",
       "GSM1266740                Nuclear GFP  \n",
       "GSM1266741               Progerin GFP  \n",
       "GSM1266742               Progerin GFP  \n",
       "GSM1266743                Nuclear GFP  \n",
       "GSM1266744                Nuclear GFP  \n",
       "GSM1266745               Progerin GFP  \n",
       "GSM1266746               Progerin GFP  "
      ]
     },
     "execution_count": 4,
     "metadata": {},
     "output_type": "execute_result"
    }
   ],
   "source": [
    "metadata = pd.read_csv('metadata_GSE52431.csv', sep=';', \n",
    "                                      index_col = 'Accession Number',\n",
    "                                      names = [\"Accession Number\", \"Cell Type\", \"Donor Age\",\n",
    "                                               \"Expression Construct\", \"5\"])\n",
    "metadata.drop('5', axis=1, inplace=True)\n",
    "metadata"
   ]
  },
  {
   "cell_type": "code",
   "execution_count": 5,
   "metadata": {},
   "outputs": [],
   "source": [
    "%Rpush rawcount_dataframe\n",
    "%Rpush metadata"
   ]
  },
  {
   "cell_type": "code",
   "execution_count": 6,
   "metadata": {
    "scrolled": true
   },
   "outputs": [
    {
     "data": {
      "text/plain": [
       "        GSM1266739 GSM1266740 GSM1266741 GSM1266742 GSM1266743 GSM1266744\n",
       "A1BG           450        458        183        330        634        831\n",
       "A1CF            35         86          8         15         66         75\n",
       "A2M             41         57        133        215        103         52\n",
       "A2ML1          117        149         17         24        137        145\n",
       "A2MP1           29         36          4          5         42         71\n",
       "A3GALT2          6          6          1          8          6          1\n",
       "        GSM1266745 GSM1266746\n",
       "A1BG           239        358\n",
       "A1CF             7         25\n",
       "A2M            103        105\n",
       "A2ML1           21         50\n",
       "A2MP1            8         14\n",
       "A3GALT2          1          9\n"
      ]
     },
     "metadata": {},
     "output_type": "display_data"
    }
   ],
   "source": [
    "%%R\n",
    "head(rawcount_dataframe)"
   ]
  },
  {
   "cell_type": "code",
   "execution_count": 7,
   "metadata": {
    "scrolled": true
   },
   "outputs": [
    {
     "data": {
      "text/plain": [
       "                                              Cell.Type Donor.Age\n",
       "GSM1266739 iPSC-derived midbrain dopamine (mDA) neurons        82\n",
       "GSM1266740 iPSC-derived midbrain dopamine (mDA) neurons        82\n",
       "GSM1266741 iPSC-derived midbrain dopamine (mDA) neurons        82\n",
       "GSM1266742 iPSC-derived midbrain dopamine (mDA) neurons        82\n",
       "GSM1266743 iPSC-derived midbrain dopamine (mDA) neurons        11\n",
       "GSM1266744 iPSC-derived midbrain dopamine (mDA) neurons        11\n",
       "GSM1266745 iPSC-derived midbrain dopamine (mDA) neurons        11\n",
       "GSM1266746 iPSC-derived midbrain dopamine (mDA) neurons        11\n",
       "           Expression.Construct\n",
       "GSM1266739          Nuclear GFP\n",
       "GSM1266740          Nuclear GFP\n",
       "GSM1266741         Progerin GFP\n",
       "GSM1266742         Progerin GFP\n",
       "GSM1266743          Nuclear GFP\n",
       "GSM1266744          Nuclear GFP\n",
       "GSM1266745         Progerin GFP\n",
       "GSM1266746         Progerin GFP\n"
      ]
     },
     "metadata": {},
     "output_type": "display_data"
    }
   ],
   "source": [
    "%%R\n",
    "metadata"
   ]
  },
  {
   "cell_type": "code",
   "execution_count": 8,
   "metadata": {},
   "outputs": [],
   "source": [
    "# Rename metadata components in Expression Construct\n",
    "metadata_renamed = metadata.copy()\n",
    "metadata_renamed['Expression Construct'] = [x.replace(' GFP', '') for x in metadata_renamed['Expression Construct']]"
   ]
  },
  {
   "cell_type": "code",
   "execution_count": 9,
   "metadata": {},
   "outputs": [
    {
     "data": {
      "text/plain": [
       "  metadata_renamed$Expression.ConstructNuclear\n",
       "1                                            1\n",
       "2                                            1\n",
       "3                                            0\n",
       "4                                            0\n",
       "5                                            1\n",
       "6                                            1\n",
       "7                                            0\n",
       "8                                            0\n",
       "  metadata_renamed$Expression.ConstructProgerin\n",
       "1                                             0\n",
       "2                                             0\n",
       "3                                             1\n",
       "4                                             1\n",
       "5                                             0\n",
       "6                                             0\n",
       "7                                             1\n",
       "8                                             1\n",
       "attr(,\"assign\")\n",
       "[1] 1 1\n",
       "attr(,\"contrasts\")\n",
       "attr(,\"contrasts\")$`metadata_renamed$Expression.Construct`\n",
       "[1] \"contr.treatment\"\n",
       "\n"
      ]
     },
     "metadata": {},
     "output_type": "display_data"
    }
   ],
   "source": [
    "%%R -i metadata_renamed\n",
    "# Show new names in column Expression Construct\n",
    "design.mat <- model.matrix(~ 0 + metadata_renamed$Expression.Construct)\n",
    "design.mat"
   ]
  },
  {
   "cell_type": "code",
   "execution_count": 31,
   "metadata": {},
   "outputs": [
    {
     "name": "stdout",
     "output_type": "stream",
     "text": [
      "\n",
      "Error in file(filename, \"r\", encoding = encoding) : \n",
      "  cannot open the connection\n"
     ]
    }
   ],
   "source": [
    "%%R\n",
    "source('code_library.R')\n",
    "ls()"
   ]
  },
  {
   "cell_type": "code",
   "execution_count": 15,
   "metadata": {},
   "outputs": [
    {
     "name": "stdout",
     "output_type": "stream",
     "text": [
      "            controls  samples\n",
      "GSM1266739         1        0\n",
      "GSM1266740         1        0\n",
      "GSM1266741         0        1\n",
      "GSM1266742         0        1\n",
      "GSM1266743         1        0\n",
      "GSM1266744         1        0\n",
      "GSM1266745         0        1\n",
      "GSM1266746         0        1\n"
     ]
    },
    {
     "data": {
      "text/html": [
       "<div>\n",
       "<style scoped>\n",
       "    .dataframe tbody tr th:only-of-type {\n",
       "        vertical-align: middle;\n",
       "    }\n",
       "\n",
       "    .dataframe tbody tr th {\n",
       "        vertical-align: top;\n",
       "    }\n",
       "\n",
       "    .dataframe thead th {\n",
       "        text-align: right;\n",
       "    }\n",
       "</style>\n",
       "<table border=\"1\" class=\"dataframe\">\n",
       "  <thead>\n",
       "    <tr style=\"text-align: right;\">\n",
       "      <th></th>\n",
       "      <th>logFC</th>\n",
       "      <th>AveExpr</th>\n",
       "      <th>t</th>\n",
       "      <th>P.Value</th>\n",
       "      <th>adj.P.Val</th>\n",
       "      <th>B</th>\n",
       "    </tr>\n",
       "  </thead>\n",
       "  <tbody>\n",
       "    <tr>\n",
       "      <th>TPRG1</th>\n",
       "      <td>-95.00</td>\n",
       "      <td>62.500</td>\n",
       "      <td>-22.652360</td>\n",
       "      <td>2.304861e-07</td>\n",
       "      <td>0.005297</td>\n",
       "      <td>2.132479</td>\n",
       "    </tr>\n",
       "    <tr>\n",
       "      <th>APELA</th>\n",
       "      <td>-65.50</td>\n",
       "      <td>47.250</td>\n",
       "      <td>-21.722848</td>\n",
       "      <td>3.006375e-07</td>\n",
       "      <td>0.005297</td>\n",
       "      <td>2.103543</td>\n",
       "    </tr>\n",
       "    <tr>\n",
       "      <th>POLQ</th>\n",
       "      <td>-87.75</td>\n",
       "      <td>65.875</td>\n",
       "      <td>-19.552712</td>\n",
       "      <td>5.853245e-07</td>\n",
       "      <td>0.006875</td>\n",
       "      <td>2.020813</td>\n",
       "    </tr>\n",
       "    <tr>\n",
       "      <th>RP13-130D24.1</th>\n",
       "      <td>-88.00</td>\n",
       "      <td>54.500</td>\n",
       "      <td>-18.456813</td>\n",
       "      <td>8.425716e-07</td>\n",
       "      <td>0.007423</td>\n",
       "      <td>1.968749</td>\n",
       "    </tr>\n",
       "    <tr>\n",
       "      <th>RIBC2</th>\n",
       "      <td>-63.25</td>\n",
       "      <td>39.125</td>\n",
       "      <td>-17.009606</td>\n",
       "      <td>1.409488e-06</td>\n",
       "      <td>0.009272</td>\n",
       "      <td>1.885946</td>\n",
       "    </tr>\n",
       "  </tbody>\n",
       "</table>\n",
       "</div>"
      ],
      "text/plain": [
       "               logFC  AveExpr          t       P.Value  adj.P.Val         B\n",
       "TPRG1         -95.00   62.500 -22.652360  2.304861e-07   0.005297  2.132479\n",
       "APELA         -65.50   47.250 -21.722848  3.006375e-07   0.005297  2.103543\n",
       "POLQ          -87.75   65.875 -19.552712  5.853245e-07   0.006875  2.020813\n",
       "RP13-130D24.1 -88.00   54.500 -18.456813  8.425716e-07   0.007423  1.968749\n",
       "RIBC2         -63.25   39.125 -17.009606  1.409488e-06   0.009272  1.885946"
      ]
     },
     "execution_count": 15,
     "metadata": {},
     "output_type": "execute_result"
    }
   ],
   "source": [
    "limma_dataframe = code_library.compute_degs(rawcount_dataframe, \n",
    "                                            ['GSM1266741','GSM1266742','GSM1266745',\n",
    "                                             'GSM1266746'], \n",
    "                                            ['GSM1266739','GSM1266740','GSM1266743',\n",
    "                                             'GSM1266744'])\n",
    "limma_dataframe.head()"
   ]
  },
  {
   "cell_type": "code",
   "execution_count": 12,
   "metadata": {},
   "outputs": [
    {
     "data": {
      "text/plain": [
       "16297882.250000002"
      ]
     },
     "execution_count": 12,
     "metadata": {},
     "output_type": "execute_result"
    }
   ],
   "source": [
    "limma_dataframe.logFC.max()"
   ]
  },
  {
   "cell_type": "code",
   "execution_count": 13,
   "metadata": {},
   "outputs": [],
   "source": [
    "import seaborn as sns\n",
    "%matplotlib inline"
   ]
  },
  {
   "cell_type": "code",
   "execution_count": 14,
   "metadata": {},
   "outputs": [
    {
     "data": {
      "text/plain": [
       "<matplotlib.axes._subplots.AxesSubplot at 0x7fc5a1ab2588>"
      ]
     },
     "execution_count": 14,
     "metadata": {},
     "output_type": "execute_result"
    },
    {
     "data": {
      "image/png": "[encoded data removed]",
      "text/plain": [
       "<matplotlib.figure.Figure at 0x7fc5a1ab2c88>"
      ]
     },
     "metadata": {},
     "output_type": "display_data"
    }
   ],
   "source": [
    "sns.distplot(limma_dataframe['logFC'])"
   ]
  }
 ],
 "metadata": {
  "kernelspec": {
   "display_name": "Python 3",
   "language": "python",
   "name": "python3"
  },
  "language_info": {
   "codemirror_mode": {
    "name": "ipython",
    "version": 3
   },
   "file_extension": ".py",
   "mimetype": "text/x-python",
   "name": "python",
   "nbconvert_exporter": "python",
   "pygments_lexer": "ipython3",
   "version": "3.6.3"
  }
 },
 "nbformat": 4,
 "nbformat_minor": 2
}
